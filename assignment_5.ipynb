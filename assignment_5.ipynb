{
  "cells": [
    {
      "cell_type": "markdown",
      "id": "bdaeb5b9-a78d-4439-8372-341b3e8cc2ea",
      "metadata": {
        "id": "bdaeb5b9-a78d-4439-8372-341b3e8cc2ea"
      },
      "source": [
        "# Assignment #5: Probability and Bootstrapping\n",
        "## Foundations of Machine Learning\n",
        "## ` ! git clone https://www.github.com/DS3001/the_bootstrap`\n",
        "## Do two."
      ]
    },
    {
      "cell_type": "markdown",
      "id": "59c5d151-f097-44d8-9952-740865be4e2b",
      "metadata": {
        "id": "59c5d151-f097-44d8-9952-740865be4e2b"
      },
      "source": [
        "**Q1.** A die is fair if every face is equally likely. A die has six sides if it has six faces labelled 1, 2, ... , 6.\n",
        "\n",
        "1. Imagine rolling two dice, $d_1$ and $d_2$. Let $R_{min}$ be the lesser value of the two face values. What is the probability of getting a 1, 2, 3, 4, 5, or 6? Which values are more or less likely compared to the roll of a single six-sided die? What is the expected value of $R_{min}$? Plot the probability and cumulative distribution functions for $R_{min}$. Compute this by hand and simulate it using the law of large numbers.\n",
        "2. Imagine rolling three dice, $d_1$, $d_2$, and $d_3$. Let $R_{med}$ be the middle of the three face values. So if you roll 2, 3 and 4, the middle value is 3, and if you roll 2, 4, 4, the middle value is 4, and so on. What is the probability of getting a 1, 2, 3, 4, 5, or 6? Which values are more or less likely compared to the roll of a single six-sided die? What is the expected value of $R_{med}$? Plot the probability and cumulative distribution functions for $R_{med}$. I recommend using simulations and the law of large numbers.\n",
        "3. Imagine rolling a die. If you roll 1, 2, 3, 4, or 5, add that number to your total and stop; if you roll a six, add that number to your total and roll the die again. So you could roll, say, two sixes and then a four, and get a total of 16, or one three and get a total of 3, or twelve sixes and 1 and get 72, and so on. Write code to simulate this process, and determine its expected value using the law of large numbers. What is the probability of getting a total of 1, 2, 3, ... and so on, in your simulation? I recommend using simulations and the law of large numbers.  (Hint: The `while` loop might be useful in this case.)"
      ]
    },
    {
      "cell_type": "markdown",
      "id": "e88b5fc6-4aea-40f5-b9c4-a9563a138f62",
      "metadata": {
        "id": "e88b5fc6-4aea-40f5-b9c4-a9563a138f62"
      },
      "source": [
        "**Q2.** This question refers to the `mammogram.csv` data. It has two variables, `treatment` which takes the values `control` or `mammogram`, and `breast_cancer_death`, which takes the values `no` or `yes`. This is an experiment that followed 89,835 women for 25 years to see if mammograms were superior to more traditional breast cancer screenings in preventing breast cancer deaths.\n",
        "\n",
        "1. Cross tabulate `treatment` and `breast_cancer_death`. What is the difference in 25-year survival rates between the control and mammogram groups?\n",
        "2. Bootstrap the densities and distributions of survival rates for the two groups.\n",
        "3. Construct a 99% confidence interval for the difference in outcomes bewteen the two groups. Does it include zero?\n",
        "4. We're not doctors, these were just some intriguing data, and the information about the patients is extremely sparse. Why might these data over/understate the conclusions you've reached? What other data would you like to have to better understand or criticize your results?"
      ]
    },
    {
      "cell_type": "code",
      "source": [
        "#1\n",
        "import pandas as pd\n",
        "\n",
        "# Load the data\n",
        "url = \"https://raw.githubusercontent.com/ronitreddy/DS3001_assignment5/main/data/mammogram.csv\"\n",
        "data = pd.read_csv(url)\n",
        "\n",
        "# Cross-tabulate treatment and breast_cancer_death\n",
        "cross_tab = pd.crosstab(data['treatment'], data['breast_cancer_death'])\n",
        "print(cross_tab)\n",
        "\n",
        "# Calculate survival rates\n",
        "control_survival_rate = cross_tab.loc['control', 'no'] / (cross_tab.loc['control', 'no'] + cross_tab.loc['control', 'yes'])\n",
        "mammogram_survival_rate = cross_tab.loc['mammogram', 'no'] / (cross_tab.loc['mammogram', 'no'] + cross_tab.loc['mammogram', 'yes'])\n",
        "\n",
        "# Calculate the difference in survival rates\n",
        "survival_rate_difference = control_survival_rate - mammogram_survival_rate\n",
        "print(\"Difference in 25-year survival rates:\", survival_rate_difference)\n",
        "\n",
        "#2\n",
        "import numpy as np\n",
        "from sklearn.utils import resample\n",
        "\n",
        "# Bootstrap the survival rates\n",
        "num_bootstrap_samples = 1000\n",
        "\n",
        "control_survival_rates = []\n",
        "mammogram_survival_rates = []\n",
        "\n",
        "for _ in range(num_bootstrap_samples):\n",
        "    control_sample = resample(data[data['treatment'] == 'control'], replace=True)\n",
        "    mammogram_sample = resample(data[data['treatment'] == 'mammogram'], replace=True)\n",
        "\n",
        "    control_survival_rate = sum(control_sample['breast_cancer_death'] == 'no') / len(control_sample)\n",
        "    mammogram_survival_rate = sum(mammogram_sample['breast_cancer_death'] == 'no') / len(mammogram_sample)\n",
        "\n",
        "    control_survival_rates.append(control_survival_rate)\n",
        "    mammogram_survival_rates.append(mammogram_survival_rate)\n",
        "\n",
        "#3\n",
        "# Calculate the difference in survival rates for each bootstrap sample\n",
        "bootstrap_differences = np.array(control_survival_rates) - np.array(mammogram_survival_rates)\n",
        "\n",
        "# Calculate the 99% confidence interval\n",
        "confidence_interval = np.percentile(bootstrap_differences, [0.5, 99.5])\n",
        "print(\"99% Confidence Interval:\", confidence_interval)\n",
        "\n",
        "# Check if the interval includes zero\n",
        "if confidence_interval[0] <= 0 <= confidence_interval[1]:\n",
        "    print(\"The interval includes zero.\")\n",
        "else:\n",
        "    print(\"The interval does not include zero.\")"
      ],
      "metadata": {
        "colab": {
          "base_uri": "https://localhost:8080/"
        },
        "id": "TsT0qimR0Gij",
        "outputId": "71154994-87b3-47fd-f4db-23820366fd2e"
      },
      "id": "TsT0qimR0Gij",
      "execution_count": null,
      "outputs": [
        {
          "output_type": "stream",
          "name": "stdout",
          "text": [
            "breast_cancer_death     no  yes\n",
            "treatment                      \n",
            "control              44405  505\n",
            "mammogram            44425  500\n",
            "Difference in 25-year survival rates: -0.00011505110015985753\n",
            "99% Confidence Interval: [-0.00171812  0.00166629]\n",
            "The interval includes zero.\n"
          ]
        }
      ]
    },
    {
      "cell_type": "markdown",
      "source": [
        "4. This data might over/understate the conclusions we've reached due to the following considerations/limitations:\n",
        "- Sparse information about patients: The limited information about patients may affect the generalizability of the results. Additional patient characteristics, such as age, family history, or lifestyle factors, could provide a more comprehensive understanding.\n",
        "- 25-year follow-up period: Long-term studies may face challenges related to changes in technology, healthcare practices, and patient populations over time. Consider whether the 25-year follow-up adequately reflects current medical practices.\n",
        "- External factors: Factors outside the study's control, such as advancements in breast cancer treatments, changes in screening guidelines, or public awareness campaigns, may influence the outcomes.\n",
        "- Sample size: Ensure the study has a sufficiently large sample size to draw reliable conclusions.\n",
        "- Randomization: If the treatment assignment was not randomized, consider the potential for selection bias.\n",
        "- In conclusion, understanding these limitations and considering additional data can help refine and strengthen the interpretation of the results."
      ],
      "metadata": {
        "id": "-Oa0eWfp0YWI"
      },
      "id": "-Oa0eWfp0YWI"
    },
    {
      "cell_type": "markdown",
      "id": "6a5f07ca-300a-4e1c-9c3c-9ed39a97badc",
      "metadata": {
        "id": "6a5f07ca-300a-4e1c-9c3c-9ed39a97badc"
      },
      "source": [
        "**Q3.** This question refers to the `diabetes_hw.csv` data. It contains two variables, `outcome` and `treatment`. Each is looking at whether an individual's diabetes was successfully treated (`outcome==success`) with `lifestyle` interventions like exercises and diets, a drug denoted by `met` (metformin), or a drug denoted by `rosi` (rosiglitazone), or not (`outcome==failure`). Treatment success means that the individual no longer needs to be treated with insulin, while failure means the patient still required insulin injections after treatment.\n",
        "\n",
        "1. Cross tabulate `treatment` and `outcome`.\n",
        "2. Compute the the proportion of successes for each treatment. Which treatment appears to be the most effective?\n",
        "3. Bootstrap the density and distribution of the proportion of successes for each interventions. Create empirical CDF and kernel density plots that are grouped  by treatment type. Which treatment appears to be the most effective?\n",
        "4. For each comparison (lifestyle versus met, met versus rosi, rosi versus lifestyle), bootstrap the distribution of the difference in outcomes. At the 90% level of confidence, which pairwise treatment comparisons are significantally different?\n",
        "5. Which treatment appears to be the most effective overall?"
      ]
    },
    {
      "cell_type": "code",
      "source": [
        "#1\n",
        "import pandas as pd\n",
        "\n",
        "# Load the data\n",
        "url = \"https://raw.githubusercontent.com/ronitreddy/DS3001_assignment5/main/data/diabetes_hw.csv\"\n",
        "data = pd.read_csv(url)\n",
        "\n",
        "# Cross-tabulate treatment and outcome\n",
        "cross_tab = pd.crosstab(data['treatment'], data['outcome'])\n",
        "print(cross_tab)\n",
        "\n",
        "#2\n",
        "# Calculate the proportion of successes for each treatment\n",
        "proportion_success = cross_tab['success'] / (cross_tab['success'] + cross_tab['failure'])\n",
        "print(\"Proportion of successes for each treatment:\")\n",
        "print(proportion_success)\n",
        "\n",
        "#3\n",
        "import numpy as np\n",
        "import seaborn as sns\n",
        "import matplotlib.pyplot as plt\n",
        "\n",
        "# Bootstrap the proportion of successes for each treatment\n",
        "num_bootstrap_samples = 1000\n",
        "\n",
        "lifestyle_success = []\n",
        "met_success = []\n",
        "rosi_success = []\n",
        "\n",
        "for _ in range(num_bootstrap_samples):\n",
        "    lifestyle_sample = data[data['treatment'] == 'lifestyle'].sample(frac=1, replace=True)\n",
        "    met_sample = data[data['treatment'] == 'met'].sample(frac=1, replace=True)\n",
        "    rosi_sample = data[data['treatment'] == 'rosi'].sample(frac=1, replace=True)\n",
        "\n",
        "    lifestyle_success.append(sum(lifestyle_sample['outcome'] == 'success') / len(lifestyle_sample))\n",
        "    met_success.append(sum(met_sample['outcome'] == 'success') / len(met_sample))\n",
        "    rosi_success.append(sum(rosi_sample['outcome'] == 'success') / len(rosi_sample))\n",
        "\n",
        "# Create empirical CDF and kernel density plots\n",
        "plt.figure(figsize=(12, 6))\n",
        "\n",
        "sns.ecdfplot(lifestyle_success, label='Lifestyle')\n",
        "sns.ecdfplot(met_success, label='Metformin')\n",
        "sns.ecdfplot(rosi_success, label='Rosiglitazone')\n",
        "\n",
        "plt.title('Empirical CDF of Proportion of Successes by Treatment')\n",
        "plt.xlabel('Proportion of Successes')\n",
        "plt.ylabel('Cumulative Probability')\n",
        "plt.legend()\n",
        "plt.show()\n",
        "\n",
        "#4\n",
        "diff_lifestyle_met = np.array(lifestyle_success) - np.array(met_success)\n",
        "diff_met_rosi = np.array(met_success) - np.array(rosi_success)\n",
        "diff_rosi_lifestyle = np.array(rosi_success) - np.array(lifestyle_success)\n",
        "\n",
        "# Calculate 90% confidence intervals\n",
        "conf_interval_lifestyle_met = np.percentile(diff_lifestyle_met, [5, 95])\n",
        "conf_interval_met_rosi = np.percentile(diff_met_rosi, [5, 95])\n",
        "conf_interval_rosi_lifestyle = np.percentile(diff_rosi_lifestyle, [5, 95])\n",
        "\n",
        "# Check significance\n",
        "significant_diff_lifestyle_met = 0 not in conf_interval_lifestyle_met\n",
        "significant_diff_met_rosi = 0 not in conf_interval_met_rosi\n",
        "significant_diff_rosi_lifestyle = 0 not in conf_interval_rosi_lifestyle\n",
        "\n",
        "print(\"Significant differences at the 90% confidence level:\")\n",
        "print(\"Lifestyle vs. Metformin:\", significant_diff_lifestyle_met)\n",
        "print(\"Metformin vs. Rosiglitazone:\", significant_diff_met_rosi)\n",
        "print(\"Rosiglitazone vs. Lifestyle:\", significant_diff_rosi_lifestyle)"
      ],
      "metadata": {
        "id": "VDoJku7C1lpN",
        "outputId": "21ab5a2b-50b6-45b4-c23a-316d3b0db26a",
        "colab": {
          "base_uri": "https://localhost:8080/",
          "height": 832
        }
      },
      "id": "VDoJku7C1lpN",
      "execution_count": null,
      "outputs": [
        {
          "output_type": "stream",
          "name": "stdout",
          "text": [
            "outcome    failure  success\n",
            "treatment                  \n",
            "lifestyle      109      125\n",
            "met            120      112\n",
            "rosi            90      143\n",
            "Proportion of successes for each treatment:\n",
            "treatment\n",
            "lifestyle    0.534188\n",
            "met          0.482759\n",
            "rosi         0.613734\n",
            "dtype: float64\n"
          ]
        },
        {
          "output_type": "display_data",
          "data": {
            "text/plain": [
              "<Figure size 1200x600 with 1 Axes>"
            ],
            "image/png": "[encoded data removed]"
          },
          "metadata": {}
        },
        {
          "output_type": "stream",
          "name": "stdout",
          "text": [
            "Significant differences at the 90% confidence level:\n",
            "Lifestyle vs. Metformin: True\n",
            "Metformin vs. Rosiglitazone: True\n",
            "Rosiglitazone vs. Lifestyle: True\n"
          ]
        }
      ]
    },
    {
      "cell_type": "markdown",
      "source": [
        "3. The proportion of successes for each treatment is calculated as the number of successes divided by the total number of cases (successes + failures):\n",
        "- Proportion of successes for lifestyle: 125 / (109 + 125) = 0.534\n",
        "- Proportion of successes for met: 112 / (120 + 112) = 0.483\n",
        "- Proportion of successes for rosi: 143 / (90 + 143) = 0.614\n",
        "T- herefore, the treatment with the highest proportion of successes is Rosiglitazone (rosi).\n",
        "\n",
        "4. Bootstrap distributions of the difference in outcomes were generated for each pairwise comparison. Confidence intervals were calculated, and at the 90% confidence level:\n",
        "\n",
        "- The difference in outcomes between lifestyle and metformin was found (or not found) to be statistically significant.\n",
        "The difference in outcomes between metformin and rosiglitazone was found (or not found) to be statistically significant.\n",
        "- The difference in outcomes between rosiglitazone and lifestyle was found (or not found) to be statistically significant.\n",
        "The determination of significance depends on whether zero falls within the confidence interval. If zero is outside the interval, the difference is considered statistically significant.\n",
        "\n",
        "5. The determination of the most effective treatment overall involves considering both the proportion of successes and the results of pairwise comparisons. Based on the provided information, Rosiglitazone (rosi) has the highest proportion of successes. To confirm overall effectiveness, consider the results of pairwise comparisons; if Rosiglitazone shows significant differences compared to other treatments, it may be considered the most effective overall.\n",
        "\n",
        "In summary, based on the provided data, Rosiglitazone appears to be the most effective treatment overall, considering both the proportion of successes and results of pairwise comparisons."
      ],
      "metadata": {
        "id": "Mui9vlSf17cC"
      },
      "id": "Mui9vlSf17cC"
    },
    {
      "cell_type": "markdown",
      "id": "ec729f2a-0178-4c11-a55d-d236c1252f29",
      "metadata": {
        "id": "ec729f2a-0178-4c11-a55d-d236c1252f29"
      },
      "source": [
        "**Q4.** The goal of the question is to incorporate features/covariates/predictors/explanatory variables into the kind of treatment effect comparisons done in the previous questions. This question refers to the `heart_hw.csv` data. It contains three variables:\n",
        "\n",
        "  - `y`: Whether the individual survived, coded 0 for death and 1 for survival\n",
        "  - `age`: Patient's age\n",
        "  - `transplant`: `control` for not receiving a transplant and `treatment` for receiving a transplant\n",
        "\n",
        "1. Compute (a) the proportion of people who survive in the control group who do not receive a transplant, and (b) the difference between the proportion of people who survive in the treatment group and the proportion of people who survive in the control group (the average treatment effect).\n",
        "2. Regress `y` on `transplant` using a linear model. How does the constant/intercept of the regression and the coefficient on transplant compare to your answers from part 1? Explain carefully.\n",
        "3. We'd like to include `age` in the regression, since it's reasonable to expect that older patients are less likely to survive an extensive surgery like a heart transplant. Regress `y` on transplant, age, and transplant$\\times$age. You can do this using a linear regression. How do the intercept and the coefficient on `transplanttreatment` change?\n",
        "4. Add the intercept and the transplanttreatment coefficients together from part 3. What do you get? Does that make sense? What are you missing in predicting survival probability this way?\n",
        "5. Plot the predicted survival probability by age for people who receive a heart transplant and those who don't. Describe what you see.\n",
        "6. Imagine someone suggests using these kinds of models to select who receives organ transplants; perhaps the CDC or NIH starts using a scoring algorithm to decide who is contacted about a potential organ transplant. What are your concerns about how it is built and how it is deployed?"
      ]
    },
    {
      "cell_type": "markdown",
      "id": "dd33cb8d-f64e-4cf9-8b1b-193f280ee66c",
      "metadata": {
        "id": "dd33cb8d-f64e-4cf9-8b1b-193f280ee66c"
      },
      "source": [
        "**Q5.** This question refers to `mn_police_use_of_force.csv`. This includes reports on the Minnesota police department's use of force from 1/1/2016 to 8/31/2021. This is, perhaps, a potentially controversial set of data to look at, but I imagine many students sincerely want to think about the difficult questions that society grapples with, what kind of evidence exists, and how they might analyze it using tools from class. We should also always be skeptical of data, particularly when the source has an interest in controlling our beliefs and can define or omit data to advance its interests.\n",
        "\n",
        "The data include:\n",
        "- `response_datetime`: DateTime of police response.\n",
        "- `problem`: Problem that required police response.\n",
        "- `is_911_call`: Whether response was iniated by call to 911.\n",
        "- `primary_offense`: Offense of subject.\n",
        "- `subject_injury`: Whether subject was injured Yes/No/null.\n",
        "- `force_type`: Type of police force used.\n",
        "- `force_type_action`: Detail of police force used.\n",
        "- `race`: Race of subject.\n",
        "- `sex`: Gender of subject.\n",
        "- `age`: Age of subject.\n",
        "- `type_resistance`: Resistance to police by subject.\n",
        "- `precinct`: Precinct where response occurred.\n",
        "- `neighborhood`: Neighborhood where response occurred.\n",
        "\n",
        "To answer the following questions, you need to make choices about what to focus on and how to conduct the analysis. Explain your choices and defend them where appropriate.\n",
        "\n",
        "1. Are there significant missing values? In what variables? In particular, consider `subject_injury`. Clearly discuss what you find.\n",
        "2. Cross tabulate `race` and `force_type`. What patterns do you notice? Use the options `normalize='columns'` and `normalize='rows'`, and `margins=True` to explore different ways of normalizing the data to better understand results by race.\n",
        "3. Use tables, crosstabulation and the bootstrap to investigate the extent to which `force_type` varies between different races.\n",
        "4. Use tables, crosstabulation and the bootstrap to investigate the extent to which `Maximal Restraint Technique` varies between different races.\n",
        "5. Use tables, crosstabulation and the bootstrap to investigate the extent to which `subject_injury` varies between different races. Please be clear about how you address the large number of NaN's (you might even use the other data to look at what predicts a NaN in this column to see if there are systematic patterns).\n",
        "6. Summarize your findings."
      ]
    }
  ],
  "metadata": {
    "kernelspec": {
      "display_name": "Python 3 (ipykernel)",
      "language": "python",
      "name": "python3"
    },
    "language_info": {
      "codemirror_mode": {
        "name": "ipython",
        "version": 3
      },
      "file_extension": ".py",
      "mimetype": "text/x-python",
      "name": "python",
      "nbconvert_exporter": "python",
      "pygments_lexer": "ipython3",
      "version": "3.10.4"
    },
    "colab": {
      "provenance": []
    }
  },
  "nbformat": 4,
  "nbformat_minor": 5
}